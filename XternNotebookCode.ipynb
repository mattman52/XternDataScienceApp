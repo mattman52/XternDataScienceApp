{
 "cells": [
  {
   "cell_type": "code",
   "execution_count": 4,
   "metadata": {},
   "outputs": [],
   "source": [
    "import pandas as pd, matplotlib.pyplot as plt, random"
   ]
  },
  {
   "cell_type": "markdown",
   "metadata": {},
   "source": [
    "    In read_data we have 3 arguments\n",
    "    df = the data frame we created from the file\n",
    "    minCharge = the lowest charge of the group we want\n",
    "    maxCharge = the highest charge of the group we want"
   ]
  },
  {
   "cell_type": "code",
   "execution_count": 5,
   "metadata": {},
   "outputs": [],
   "source": [
    "def read_data(df, minCharge, maxCharge):\n",
    "    #getting the data for the mincharge\n",
    "    charge = df[df.power_level == minCharge]\n",
    "    #seeing how many rows of data are in the min charge\n",
    "    minChargeCount = len(charge.index)\n",
    "    #adding the min charge with the max charge to make one full dataframe of the group needed\n",
    "    fullArray = charge.append(df[df.power_level == maxCharge])\n",
    "    # using the min count to subtract it from the full array rows to get the max charge rows\n",
    "    maxChargeCount = len(fullArray.index) - minChargeCount\n",
    "    #returing the data we grouped based off of the min charge and max charge arguments and how many of each\n",
    "    return(charge, minChargeCount, maxChargeCount)"
   ]
  },
  {
   "cell_type": "markdown",
   "metadata": {},
   "source": [
    "\n",
    "    In scatter_plot we have 3 arguments\n",
    "\n",
    "    low = data of the low charge group (0 , 1)\n",
    "    med = data of the medium charge group (2 , 3)\n",
    "    high = data of the high charge group (4, 5)\n"
   ]
  },
  {
   "cell_type": "code",
   "execution_count": 7,
   "metadata": {},
   "outputs": [],
   "source": [
    "def scatter_plot(low, med, high):\n",
    "    # these are locations where scooters are centered around there are 6 locations\n",
    "    locations = {0: {\"x1\": -.35, \"x2\": -.05, \"y1\": -.3, \"y2\": .1}, 1: {\"x1\": .1, \"x2\": .45, \"y1\": -.3, \"y2\": .2}, 2: {\"x1\": -.18, \"x2\": -.08, \"y1\": .225, \"y2\": .425}, 3: {\"x1\": .55, \"x2\": 1, \"y1\": .4, \"y2\": 1.2}, 4: {\"x1\": .9, \"x2\": 1.25, \"y1\": 1.25, \"y2\": 1.4}, 5: {\"x1\": 1.28, \"x2\": 1.4, \"y1\": .825, \"y2\": .925}}\n",
    "    counter = 0\n",
    "    # using counter so we only get certian plots at a time \n",
    "    while counter <=3:\n",
    "        plt.figure(figsize=(10,10))\n",
    "        if counter == 0:\n",
    "            # this will get a scatter plot of all the data including the bus location\n",
    "            title = \"(plt1) Bus and Scooter Locations\"\n",
    "            plt.scatter(x=high['xcoordinate'], y=high['ycoordinate'], alpha=.2, facecolors = 'None', edgecolors=\"Blue\", label=\"High\")\n",
    "            plt.scatter(x=med['xcoordinate'], y=med['ycoordinate'], alpha=.3, facecolors = 'None', edgecolors=\"Orange\", label = \"Medium\")\n",
    "            plt.scatter(x=low['xcoordinate'], y=low['ycoordinate'], alpha=.5, facecolors = 'None', edgecolors=\"Red\", label = \"Low\")\n",
    "            plt.scatter(x=20.19, y=20.19, edgecolors='black', marker='^', label = \"Bus\")\n",
    "            plt.grid(True)\n",
    "        elif counter == 1:\n",
    "            # this will only get the low battery locations\n",
    "            title = \"(plt2) Scooters with low Battery Location\"\n",
    "            plt.scatter(x=low['xcoordinate'], y=low['ycoordinate'], alpha=.5, facecolors = 'None', edgecolors=\"Red\", label = \"Low\")\n",
    "        elif counter == 2:\n",
    "            # here we get a scatter plot of all the scooters and we can finally see all the 6 locations\n",
    "            title = \"(plt3) All scooter locations compared with charge\"\n",
    "            plt.scatter(x=high['xcoordinate'], y=high['ycoordinate'], alpha=.2, facecolors = 'None', edgecolors=\"Blue\", label = \"High\")\n",
    "            plt.scatter(x=med['xcoordinate'], y=med['ycoordinate'], alpha=.3, facecolors = 'None', edgecolors=\"Orange\", label = \"Medium\")\n",
    "            plt.scatter(x=low['xcoordinate'], y=low['ycoordinate'], alpha=.5, facecolors = 'None', edgecolors=\"Red\", label = \"Low\")\n",
    "        else:\n",
    "            # using the dictionary for the locations we are able to see certian locations at a time and analyze them \n",
    "            for index in range(6):\n",
    "                title = \"(plt\"+str(index+4)+\") Focusing on Location \"+str(index)+\" with all scooters\"\n",
    "                plt.figure(figsize=(10,10))\n",
    "                location = locations[index]\n",
    "                plt.xlim(location[\"x1\"], location[\"x2\"])\n",
    "                plt.ylim(location[\"y1\"], location[\"y2\"])\n",
    "                plt.scatter(x=high['xcoordinate'], y=high['ycoordinate'], alpha=.2, facecolors = 'None', edgecolors=\"Blue\", label=\"High\")\n",
    "                plt.scatter(x=med['xcoordinate'], y=med['ycoordinate'], alpha=.3, facecolors = 'None', edgecolors=\"Orange\", label = \"Medium\")\n",
    "                plt.scatter(x=low['xcoordinate'], y=low['ycoordinate'], alpha=.5, facecolors = 'None', edgecolors=\"Red\", label = \"Low\")\n",
    "                plt.title(title)\n",
    "                plt.xlabel(\"xcoordinate\")\n",
    "                plt.ylabel(\"ycoordinate\")\n",
    "                plt.legend()\n",
    "                plt.show()\n",
    "            return locations\n",
    "        counter += 1\n",
    "        plt.title(title)\n",
    "        plt.xlabel(\"xcoordinate\")\n",
    "        plt.ylabel(\"ycoordinate\")\n",
    "        plt.legend()\n",
    "        plt.show()"
   ]
  },
  {
   "cell_type": "code",
   "execution_count": 8,
   "metadata": {},
   "outputs": [
    {
     "ename": "IOError",
     "evalue": "[Errno 2] File 2019-XTern- Work Sample Assessment Data Science-DS.csv does not exist: '2019-XTern- Work Sample Assessment Data Science-DS.csv'",
     "output_type": "error",
     "traceback": [
      "\u001b[1;31m\u001b[0m",
      "\u001b[1;31mIOError\u001b[0mTraceback (most recent call last)",
      "\u001b[1;32m<ipython-input-8-d78d2ebee8ea>\u001b[0m in \u001b[0;36m<module>\u001b[1;34m()\u001b[0m\n\u001b[1;32m----> 1\u001b[1;33m \u001b[0mdf\u001b[0m \u001b[1;33m=\u001b[0m \u001b[0mpd\u001b[0m\u001b[1;33m.\u001b[0m\u001b[0mread_csv\u001b[0m\u001b[1;33m(\u001b[0m\u001b[1;34m'2019-XTern- Work Sample Assessment Data Science-DS.csv'\u001b[0m\u001b[1;33m,\u001b[0m \u001b[0mindex_col\u001b[0m\u001b[1;33m=\u001b[0m\u001b[1;34m'scooter_id'\u001b[0m\u001b[1;33m)\u001b[0m\u001b[1;33m\u001b[0m\u001b[0m\n\u001b[0m",
      "\u001b[1;32mC:\\Users\\Work\\Anaconda3\\envs\\dviz\\lib\\site-packages\\pandas\\io\\parsers.pyc\u001b[0m in \u001b[0;36mparser_f\u001b[1;34m(filepath_or_buffer, sep, delimiter, header, names, index_col, usecols, squeeze, prefix, mangle_dupe_cols, dtype, engine, converters, true_values, false_values, skipinitialspace, skiprows, skipfooter, nrows, na_values, keep_default_na, na_filter, verbose, skip_blank_lines, parse_dates, infer_datetime_format, keep_date_col, date_parser, dayfirst, iterator, chunksize, compression, thousands, decimal, lineterminator, quotechar, quoting, doublequote, escapechar, comment, encoding, dialect, tupleize_cols, error_bad_lines, warn_bad_lines, delim_whitespace, low_memory, memory_map, float_precision)\u001b[0m\n\u001b[0;32m    700\u001b[0m                     skip_blank_lines=skip_blank_lines)\n\u001b[0;32m    701\u001b[0m \u001b[1;33m\u001b[0m\u001b[0m\n\u001b[1;32m--> 702\u001b[1;33m         \u001b[1;32mreturn\u001b[0m \u001b[0m_read\u001b[0m\u001b[1;33m(\u001b[0m\u001b[0mfilepath_or_buffer\u001b[0m\u001b[1;33m,\u001b[0m \u001b[0mkwds\u001b[0m\u001b[1;33m)\u001b[0m\u001b[1;33m\u001b[0m\u001b[0m\n\u001b[0m\u001b[0;32m    703\u001b[0m \u001b[1;33m\u001b[0m\u001b[0m\n\u001b[0;32m    704\u001b[0m     \u001b[0mparser_f\u001b[0m\u001b[1;33m.\u001b[0m\u001b[0m__name__\u001b[0m \u001b[1;33m=\u001b[0m \u001b[0mname\u001b[0m\u001b[1;33m\u001b[0m\u001b[0m\n",
      "\u001b[1;32mC:\\Users\\Work\\Anaconda3\\envs\\dviz\\lib\\site-packages\\pandas\\io\\parsers.pyc\u001b[0m in \u001b[0;36m_read\u001b[1;34m(filepath_or_buffer, kwds)\u001b[0m\n\u001b[0;32m    427\u001b[0m \u001b[1;33m\u001b[0m\u001b[0m\n\u001b[0;32m    428\u001b[0m     \u001b[1;31m# Create the parser.\u001b[0m\u001b[1;33m\u001b[0m\u001b[1;33m\u001b[0m\u001b[0m\n\u001b[1;32m--> 429\u001b[1;33m     \u001b[0mparser\u001b[0m \u001b[1;33m=\u001b[0m \u001b[0mTextFileReader\u001b[0m\u001b[1;33m(\u001b[0m\u001b[0mfilepath_or_buffer\u001b[0m\u001b[1;33m,\u001b[0m \u001b[1;33m**\u001b[0m\u001b[0mkwds\u001b[0m\u001b[1;33m)\u001b[0m\u001b[1;33m\u001b[0m\u001b[0m\n\u001b[0m\u001b[0;32m    430\u001b[0m \u001b[1;33m\u001b[0m\u001b[0m\n\u001b[0;32m    431\u001b[0m     \u001b[1;32mif\u001b[0m \u001b[0mchunksize\u001b[0m \u001b[1;32mor\u001b[0m \u001b[0miterator\u001b[0m\u001b[1;33m:\u001b[0m\u001b[1;33m\u001b[0m\u001b[0m\n",
      "\u001b[1;32mC:\\Users\\Work\\Anaconda3\\envs\\dviz\\lib\\site-packages\\pandas\\io\\parsers.pyc\u001b[0m in \u001b[0;36m__init__\u001b[1;34m(self, f, engine, **kwds)\u001b[0m\n\u001b[0;32m    893\u001b[0m             \u001b[0mself\u001b[0m\u001b[1;33m.\u001b[0m\u001b[0moptions\u001b[0m\u001b[1;33m[\u001b[0m\u001b[1;34m'has_index_names'\u001b[0m\u001b[1;33m]\u001b[0m \u001b[1;33m=\u001b[0m \u001b[0mkwds\u001b[0m\u001b[1;33m[\u001b[0m\u001b[1;34m'has_index_names'\u001b[0m\u001b[1;33m]\u001b[0m\u001b[1;33m\u001b[0m\u001b[0m\n\u001b[0;32m    894\u001b[0m \u001b[1;33m\u001b[0m\u001b[0m\n\u001b[1;32m--> 895\u001b[1;33m         \u001b[0mself\u001b[0m\u001b[1;33m.\u001b[0m\u001b[0m_make_engine\u001b[0m\u001b[1;33m(\u001b[0m\u001b[0mself\u001b[0m\u001b[1;33m.\u001b[0m\u001b[0mengine\u001b[0m\u001b[1;33m)\u001b[0m\u001b[1;33m\u001b[0m\u001b[0m\n\u001b[0m\u001b[0;32m    896\u001b[0m \u001b[1;33m\u001b[0m\u001b[0m\n\u001b[0;32m    897\u001b[0m     \u001b[1;32mdef\u001b[0m \u001b[0mclose\u001b[0m\u001b[1;33m(\u001b[0m\u001b[0mself\u001b[0m\u001b[1;33m)\u001b[0m\u001b[1;33m:\u001b[0m\u001b[1;33m\u001b[0m\u001b[0m\n",
      "\u001b[1;32mC:\\Users\\Work\\Anaconda3\\envs\\dviz\\lib\\site-packages\\pandas\\io\\parsers.pyc\u001b[0m in \u001b[0;36m_make_engine\u001b[1;34m(self, engine)\u001b[0m\n\u001b[0;32m   1120\u001b[0m     \u001b[1;32mdef\u001b[0m \u001b[0m_make_engine\u001b[0m\u001b[1;33m(\u001b[0m\u001b[0mself\u001b[0m\u001b[1;33m,\u001b[0m \u001b[0mengine\u001b[0m\u001b[1;33m=\u001b[0m\u001b[1;34m'c'\u001b[0m\u001b[1;33m)\u001b[0m\u001b[1;33m:\u001b[0m\u001b[1;33m\u001b[0m\u001b[0m\n\u001b[0;32m   1121\u001b[0m         \u001b[1;32mif\u001b[0m \u001b[0mengine\u001b[0m \u001b[1;33m==\u001b[0m \u001b[1;34m'c'\u001b[0m\u001b[1;33m:\u001b[0m\u001b[1;33m\u001b[0m\u001b[0m\n\u001b[1;32m-> 1122\u001b[1;33m             \u001b[0mself\u001b[0m\u001b[1;33m.\u001b[0m\u001b[0m_engine\u001b[0m \u001b[1;33m=\u001b[0m \u001b[0mCParserWrapper\u001b[0m\u001b[1;33m(\u001b[0m\u001b[0mself\u001b[0m\u001b[1;33m.\u001b[0m\u001b[0mf\u001b[0m\u001b[1;33m,\u001b[0m \u001b[1;33m**\u001b[0m\u001b[0mself\u001b[0m\u001b[1;33m.\u001b[0m\u001b[0moptions\u001b[0m\u001b[1;33m)\u001b[0m\u001b[1;33m\u001b[0m\u001b[0m\n\u001b[0m\u001b[0;32m   1123\u001b[0m         \u001b[1;32melse\u001b[0m\u001b[1;33m:\u001b[0m\u001b[1;33m\u001b[0m\u001b[0m\n\u001b[0;32m   1124\u001b[0m             \u001b[1;32mif\u001b[0m \u001b[0mengine\u001b[0m \u001b[1;33m==\u001b[0m \u001b[1;34m'python'\u001b[0m\u001b[1;33m:\u001b[0m\u001b[1;33m\u001b[0m\u001b[0m\n",
      "\u001b[1;32mC:\\Users\\Work\\Anaconda3\\envs\\dviz\\lib\\site-packages\\pandas\\io\\parsers.pyc\u001b[0m in \u001b[0;36m__init__\u001b[1;34m(self, src, **kwds)\u001b[0m\n\u001b[0;32m   1851\u001b[0m         \u001b[0mkwds\u001b[0m\u001b[1;33m[\u001b[0m\u001b[1;34m'usecols'\u001b[0m\u001b[1;33m]\u001b[0m \u001b[1;33m=\u001b[0m \u001b[0mself\u001b[0m\u001b[1;33m.\u001b[0m\u001b[0musecols\u001b[0m\u001b[1;33m\u001b[0m\u001b[0m\n\u001b[0;32m   1852\u001b[0m \u001b[1;33m\u001b[0m\u001b[0m\n\u001b[1;32m-> 1853\u001b[1;33m         \u001b[0mself\u001b[0m\u001b[1;33m.\u001b[0m\u001b[0m_reader\u001b[0m \u001b[1;33m=\u001b[0m \u001b[0mparsers\u001b[0m\u001b[1;33m.\u001b[0m\u001b[0mTextReader\u001b[0m\u001b[1;33m(\u001b[0m\u001b[0msrc\u001b[0m\u001b[1;33m,\u001b[0m \u001b[1;33m**\u001b[0m\u001b[0mkwds\u001b[0m\u001b[1;33m)\u001b[0m\u001b[1;33m\u001b[0m\u001b[0m\n\u001b[0m\u001b[0;32m   1854\u001b[0m         \u001b[0mself\u001b[0m\u001b[1;33m.\u001b[0m\u001b[0munnamed_cols\u001b[0m \u001b[1;33m=\u001b[0m \u001b[0mself\u001b[0m\u001b[1;33m.\u001b[0m\u001b[0m_reader\u001b[0m\u001b[1;33m.\u001b[0m\u001b[0munnamed_cols\u001b[0m\u001b[1;33m\u001b[0m\u001b[0m\n\u001b[0;32m   1855\u001b[0m \u001b[1;33m\u001b[0m\u001b[0m\n",
      "\u001b[1;32mpandas/_libs/parsers.pyx\u001b[0m in \u001b[0;36mpandas._libs.parsers.TextReader.__cinit__\u001b[1;34m()\u001b[0m\n",
      "\u001b[1;32mpandas/_libs/parsers.pyx\u001b[0m in \u001b[0;36mpandas._libs.parsers.TextReader._setup_parser_source\u001b[1;34m()\u001b[0m\n",
      "\u001b[1;31mIOError\u001b[0m: [Errno 2] File 2019-XTern- Work Sample Assessment Data Science-DS.csv does not exist: '2019-XTern- Work Sample Assessment Data Science-DS.csv'"
     ]
    }
   ],
   "source": [
    "df = pd.read_csv('2019-XTern- Work Sample Assessment Data Science-DS.csv', index_col='scooter_id')"
   ]
  },
  {
   "cell_type": "code",
   "execution_count": 9,
   "metadata": {},
   "outputs": [
    {
     "ename": "NameError",
     "evalue": "name 'df' is not defined",
     "output_type": "error",
     "traceback": [
      "\u001b[1;31m\u001b[0m",
      "\u001b[1;31mNameError\u001b[0mTraceback (most recent call last)",
      "\u001b[1;32m<ipython-input-9-dec49448a545>\u001b[0m in \u001b[0;36m<module>\u001b[1;34m()\u001b[0m\n\u001b[1;32m----> 1\u001b[1;33m \u001b[0mlowCharge\u001b[0m\u001b[1;33m,\u001b[0m \u001b[0mzeroCount\u001b[0m\u001b[1;33m,\u001b[0m \u001b[0moneCount\u001b[0m \u001b[1;33m=\u001b[0m \u001b[0mread_data\u001b[0m\u001b[1;33m(\u001b[0m\u001b[0mdf\u001b[0m\u001b[1;33m,\u001b[0m \u001b[1;36m0\u001b[0m\u001b[1;33m,\u001b[0m \u001b[1;36m1\u001b[0m\u001b[1;33m)\u001b[0m\u001b[1;33m\u001b[0m\u001b[0m\n\u001b[0m\u001b[0;32m      2\u001b[0m \u001b[0mmedCharge\u001b[0m\u001b[1;33m,\u001b[0m \u001b[0mtwoCount\u001b[0m\u001b[1;33m,\u001b[0m \u001b[0mthreeCount\u001b[0m \u001b[1;33m=\u001b[0m \u001b[0mread_data\u001b[0m\u001b[1;33m(\u001b[0m\u001b[0mdf\u001b[0m\u001b[1;33m,\u001b[0m \u001b[1;36m2\u001b[0m\u001b[1;33m,\u001b[0m\u001b[1;36m3\u001b[0m\u001b[1;33m)\u001b[0m\u001b[1;33m\u001b[0m\u001b[0m\n\u001b[0;32m      3\u001b[0m \u001b[0mhighCharge\u001b[0m\u001b[1;33m,\u001b[0m \u001b[0mfourCount\u001b[0m\u001b[1;33m,\u001b[0m \u001b[0mfiveCount\u001b[0m \u001b[1;33m=\u001b[0m \u001b[0mread_data\u001b[0m\u001b[1;33m(\u001b[0m\u001b[0mdf\u001b[0m\u001b[1;33m,\u001b[0m\u001b[1;36m4\u001b[0m\u001b[1;33m,\u001b[0m\u001b[1;36m5\u001b[0m\u001b[1;33m)\u001b[0m\u001b[1;33m\u001b[0m\u001b[0m\n",
      "\u001b[1;31mNameError\u001b[0m: name 'df' is not defined"
     ]
    }
   ],
   "source": [
    "lowCharge, zeroCount, oneCount = read_data(df, 0, 1)\n",
    "medCharge, twoCount, threeCount = read_data(df, 2,3)\n",
    "highCharge, fourCount, fiveCount = read_data(df,4,5)"
   ]
  },
  {
   "cell_type": "code",
   "execution_count": 10,
   "metadata": {},
   "outputs": [
    {
     "ename": "NameError",
     "evalue": "name 'lowCharge' is not defined",
     "output_type": "error",
     "traceback": [
      "\u001b[1;31m\u001b[0m",
      "\u001b[1;31mNameError\u001b[0mTraceback (most recent call last)",
      "\u001b[1;32m<ipython-input-10-fca2721a01ef>\u001b[0m in \u001b[0;36m<module>\u001b[1;34m()\u001b[0m\n\u001b[1;32m----> 1\u001b[1;33m \u001b[0mscatter_plot\u001b[0m\u001b[1;33m(\u001b[0m\u001b[0mlowCharge\u001b[0m\u001b[1;33m,\u001b[0m \u001b[0mmedCharge\u001b[0m\u001b[1;33m,\u001b[0m \u001b[0mhighCharge\u001b[0m\u001b[1;33m)\u001b[0m\u001b[1;33m\u001b[0m\u001b[0m\n\u001b[0m",
      "\u001b[1;31mNameError\u001b[0m: name 'lowCharge' is not defined"
     ]
    }
   ],
   "source": [
    "scatter_plot(lowCharge, medCharge, highCharge)"
   ]
  },
  {
   "cell_type": "code",
   "execution_count": 11,
   "metadata": {},
   "outputs": [
    {
     "ename": "NameError",
     "evalue": "name 'zeroCount' is not defined",
     "output_type": "error",
     "traceback": [
      "\u001b[1;31m\u001b[0m",
      "\u001b[1;31mNameError\u001b[0mTraceback (most recent call last)",
      "\u001b[1;32m<ipython-input-11-f4fa2b2228b6>\u001b[0m in \u001b[0;36m<module>\u001b[1;34m()\u001b[0m\n\u001b[1;32m----> 1\u001b[1;33m \u001b[1;32mprint\u001b[0m\u001b[1;33m(\u001b[0m\u001b[1;34m\"The number of scooters for each power level are. 0:\"\u001b[0m\u001b[1;33m,\u001b[0m\u001b[0mzeroCount\u001b[0m\u001b[1;33m,\u001b[0m\u001b[1;34m\"1:\"\u001b[0m\u001b[1;33m,\u001b[0m\u001b[0moneCount\u001b[0m\u001b[1;33m,\u001b[0m\u001b[1;34m\"2:\"\u001b[0m\u001b[1;33m,\u001b[0m\u001b[0mtwoCount\u001b[0m\u001b[1;33m,\u001b[0m\u001b[1;34m\"3:\"\u001b[0m\u001b[1;33m,\u001b[0m\u001b[0mthreeCount\u001b[0m\u001b[1;33m,\u001b[0m\u001b[1;34m\"4:\"\u001b[0m\u001b[1;33m,\u001b[0m\u001b[0mfourCount\u001b[0m\u001b[1;33m,\u001b[0m\u001b[1;34m\"5:\"\u001b[0m\u001b[1;33m,\u001b[0m\u001b[0mfiveCount\u001b[0m\u001b[1;33m,\u001b[0m\u001b[1;34m\".\"\u001b[0m\u001b[1;33m)\u001b[0m\u001b[1;33m\u001b[0m\u001b[0m\n\u001b[0m\u001b[0;32m      2\u001b[0m \u001b[1;32mprint\u001b[0m\u001b[1;33m(\u001b[0m\u001b[1;34m\"We classifyed those that are 0 or 1 as low Charge that need immediate charge.\"\u001b[0m\u001b[1;33m)\u001b[0m\u001b[1;33m\u001b[0m\u001b[0m\n\u001b[0;32m      3\u001b[0m \u001b[1;32mprint\u001b[0m\u001b[1;33m(\u001b[0m\u001b[1;34m\"We classifyed the scooters that are 2 or 3 as medium charge. We classifyed the high Charge as scooters with power level of 4 or 5.\"\u001b[0m\u001b[1;33m)\u001b[0m\u001b[1;33m\u001b[0m\u001b[0m\n",
      "\u001b[1;31mNameError\u001b[0m: name 'zeroCount' is not defined"
     ]
    }
   ],
   "source": [
    "print(\"The number of scooters for each power level are. 0:\",zeroCount,\"1:\",oneCount,\"2:\",twoCount,\"3:\",threeCount,\"4:\",fourCount,\"5:\",fiveCount,\".\")\n",
    "print(\"We classifyed those that are 0 or 1 as low Charge that need immediate charge.\")\n",
    "print(\"We classifyed the scooters that are 2 or 3 as medium charge. We classifyed the high Charge as scooters with power level of 4 or 5.\")\n"
   ]
  },
  {
   "cell_type": "code",
   "execution_count": null,
   "metadata": {},
   "outputs": [],
   "source": []
  }
 ],
 "metadata": {
  "kernelspec": {
   "display_name": "dviz",
   "language": "python",
   "name": "dviz"
  },
  "language_info": {
   "codemirror_mode": {
    "name": "ipython",
    "version": 2
   },
   "file_extension": ".py",
   "mimetype": "text/x-python",
   "name": "python",
   "nbconvert_exporter": "python",
   "pygments_lexer": "ipython2",
   "version": "2.7.16"
  }
 },
 "nbformat": 4,
 "nbformat_minor": 2
}
